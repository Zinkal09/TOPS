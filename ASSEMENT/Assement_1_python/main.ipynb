{
 "cells": [
  {
   "cell_type": "code",
   "execution_count": 10,
   "id": "0a73565e-2b37-4bf1-982a-efe5d4c34703",
   "metadata": {},
   "outputs": [],
   "source": [
    "import manager_module\n",
    "import customer_module"
   ]
  },
  {
   "cell_type": "code",
   "execution_count": 13,
   "id": "a3dda0bb-2cd5-4cba-9194-3a195552fc42",
   "metadata": {},
   "outputs": [
    {
     "name": "stdout",
     "output_type": "stream",
     "text": [
      "\n",
      "\tWELCOME TO FRUIT MARKET\n",
      "\n",
      "\t1) Manager\n",
      "\t2) Customer\n",
      "\t3) Exit\n"
     ]
    },
    {
     "name": "stdin",
     "output_type": "stream",
     "text": [
      "\n",
      "Select your Role:  3\n"
     ]
    },
    {
     "name": "stdout",
     "output_type": "stream",
     "text": [
      "Thank you!\n"
     ]
    }
   ],
   "source": [
    "def manager_menu():\n",
    "    \n",
    "    \n",
    "    while True:\n",
    "        print(\"\\n\\tFruit Market Manager\")\n",
    "        print(\"\\n\\t1) Add Fruit Stock\")\n",
    "        print(\"\\t2) View Fruit Stock\")\n",
    "        print(\"\\t3) Update Fruit Stock\")\n",
    "        print(\"\\t4) Back to Main Menu\")\n",
    "        \n",
    "        choice = input(\"\\nEnter your choice: \").strip()\n",
    "\n",
    "        if choice == '1':\n",
    "            manager_module.add_fruitstock()\n",
    "        elif choice == '2':\n",
    "            manager_module.view_fruitstock()\n",
    "        elif choice == '3':\n",
    "            manager_module.update_fruitstock()\n",
    "        elif choice == '4':\n",
    "            break\n",
    "        else:\n",
    "            print(\" Invalid input \")\n",
    "\n",
    "def main_menu():\n",
    "    while True:\n",
    "        print(\"\\n\\tWELCOME TO FRUIT MARKET\")\n",
    "        print(\"\\n\\t1) Manager\")\n",
    "        print(\"\\t2) Customer\")\n",
    "        print(\"\\t3) Exit\")\n",
    "\n",
    "        role = input(\"\\nSelect your Role: \").strip()\n",
    "\n",
    "        if role == '1':\n",
    "            manager_menu()\n",
    "        elif role == '2':\n",
    "            customer_module.customer_menu()\n",
    "            print(\" Customer module \")\n",
    "        elif role == '3':\n",
    "            print( \"Thank you!\")\n",
    "            break\n",
    "        else:\n",
    "            print(\" Invalid input\")\n",
    "\n",
    "\n",
    "if __name__ == \"__main__\":\n",
    "    main_menu()\n",
    " "
   ]
  },
  {
   "cell_type": "code",
   "execution_count": null,
   "id": "4179d6bd-9f61-4b95-a4ea-99d6f8b7ba98",
   "metadata": {},
   "outputs": [],
   "source": []
  }
 ],
 "metadata": {
  "kernelspec": {
   "display_name": "Python 3 (ipykernel)",
   "language": "python",
   "name": "python3"
  },
  "language_info": {
   "codemirror_mode": {
    "name": "ipython",
    "version": 3
   },
   "file_extension": ".py",
   "mimetype": "text/x-python",
   "name": "python",
   "nbconvert_exporter": "python",
   "pygments_lexer": "ipython3",
   "version": "3.12.7"
  }
 },
 "nbformat": 4,
 "nbformat_minor": 5
}
