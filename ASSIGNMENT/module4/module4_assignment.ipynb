{
 "cells": [
  {
   "cell_type": "markdown",
   "id": "a4d7a6b9-b7b9-4e66-96da-7c9b060b65ab",
   "metadata": {},
   "source": [
    "13.researcher wants to test whether a new teaching method improves student\n",
    "performance. A random sample of 50 students is divided into two groups: one group\n",
    "taught using the new method and the other using the traditional method. The average\n",
    "test scores of the two groups are compared. State the null and alternative hypotheses\n",
    "for this study. Data: Sample size (n) = 50, Test scores of the two groups\n",
    "Explanation: In this problem, we are interested in comparing the means of two\n",
    "groups (new method vs. traditional method). The null hypothesis (H0) states that\n",
    "there is no significant difference between the means, while the alternative\n",
    "hypothesis (Ha) suggests that there is a significant difference"
   ]
  },
  {
   "cell_type": "code",
   "execution_count": 1,
   "id": "a46dd979-b3b1-42c3-a79a-7b6b32449f87",
   "metadata": {},
   "outputs": [
    {
     "name": "stdout",
     "output_type": "stream",
     "text": [
      "0.07682212795973759\n",
      "48\n",
      "0.9390843722220845\n",
      "failed to reject the null hypothesis\n"
     ]
    }
   ],
   "source": [
    "import numpy as np\n",
    "from scipy import stats\n",
    "n1= 25\n",
    "mean1 = 75\n",
    "std1= 10\n",
    "\n",
    "n2 = 25\n",
    "mean2 = 72\n",
    "std2 = 12\n",
    "\n",
    "sp_squared = (((n1 - 1) * std1**2) + ((n2 - 1) * std2**2)) / (n1 + n2 - 2)\n",
    "sp = np.sqrt(sp_squared)\n",
    "#t_stat\n",
    "t_stat = (mean1-mean2)/sp * np.sqrt(1/n1 + 1/n2)\n",
    "\n",
    "\n",
    "df = n1 + n2 -2\n",
    "\n",
    "#p-value\n",
    "p_value = 2*(1-stats.t.cdf(abs(t_stat),df))\n",
    "print(t_stat)\n",
    "print(df)\n",
    "print(p_value)\n",
    "\n",
    "alpha = 0.05\n",
    "if p_value<alpha:\n",
    "    print(\"reject the null hypothsis\")\n",
    "\n",
    "else:\n",
    "    print(\"failed to reject the null hypothesis\")"
   ]
  },
  {
   "cell_type": "markdown",
   "id": "344003ef-d4a6-4048-9e4c-09304605e97b",
   "metadata": {},
   "source": [
    "12. A manufacturing company claims that the average weight of its product is 500\n",
    "grams. To test this claim, a random sample of 25 products is selected, and their\n",
    "weights are measured. The sample mean weight is found to be 510 grams with a\n",
    "sample standard deviation of 20 grams. Perform a hypothesis test to determine if\n",
    "there is evidence to support the company's claim. Data: Sample size (n) = 25,\n",
    "Sample mean (x̄) = 510 grams, Sample standard deviation (s) = 20 grams,\n",
    "Population mean (μ) = 500 grams\n"
   ]
  },
  {
   "cell_type": "code",
   "execution_count": 4,
   "id": "1248755a-b5e0-4263-a8b1-6dbe8110b5cc",
   "metadata": {},
   "outputs": [
    {
     "name": "stdout",
     "output_type": "stream",
     "text": [
      "reject the null hypothesis\n"
     ]
    }
   ],
   "source": [
    "#sample info\n",
    "sample_mean = 510\n",
    "sample_sd = 20\n",
    "sample_size = 25\n",
    "\n",
    "#population\n",
    "population_mean = 500\n",
    "\n",
    "df = sample_size-1\n",
    "se = sample_sd/np.sqrt(sample_size)\n",
    "\n",
    "t_stat = (sample_mean - population_mean)/se\n",
    "\n",
    "p_value = 2 * (1 - stats.t.cdf(abs(t_stat), df))\n",
    "alpha = 0.05\n",
    "if p_value<alpha:\n",
    "    print(\"reject the null hypothesis\")\n",
    "else:\n",
    "    print(\"failed to reject the null hypothesis\")"
   ]
  },
  {
   "cell_type": "markdown",
   "id": "54ab494f-0bdf-489a-a474-bab6d11cf858",
   "metadata": {},
   "source": [
    "10..The lifetimes of a certain brand of light bulbs are normally distributed with a mean\n",
    "of 1000 hours and a standard deviation of 100 hours. What is the probability that a\n",
    "randomly selected light bulb lasts between 900 and 1100 hours? Data: Mean lifetime\n",
    "(μ) = 1000 hours, Standard deviation (σ) = 100 hours, Lifetime range (lower limit x1,\n",
    "upper limit x2)"
   ]
  },
  {
   "cell_type": "code",
   "execution_count": null,
   "id": "286c714b-04ac-4119-b4f5-e4e00ec85acf",
   "metadata": {},
   "outputs": [],
   "source": []
  },
  {
   "cell_type": "code",
   "execution_count": 9,
   "id": "441aac74-a09a-48b7-9e6f-6fa69d2a177c",
   "metadata": {},
   "outputs": [
    {
     "name": "stdout",
     "output_type": "stream",
     "text": [
      "probabliliy :  0.6826894921370859\n"
     ]
    }
   ],
   "source": [
    "from scipy.stats import norm\n",
    "\n",
    "mean = 1000\n",
    "sigma = 100\n",
    "x1 , x2 = 900 , 1100\n",
    "\n",
    "prob = norm.cdf(x2,mean,sigma) - norm.cdf(x1,mean,sigma)\n",
    "print(\"probabliliy : \",prob)\n",
    "\n"
   ]
  },
  {
   "cell_type": "markdown",
   "id": "1809a0a2-8c3e-4465-8b10-3ccc2d902618",
   "metadata": {},
   "source": [
    "8..A researcher wants to examine the relationship between the hours spent studying\n",
    "and the exam scores of a group of students.\n",
    "Data: Let's consider the number of hours spent studying and the corresponding\n",
    "exam scores for a sample of 30 students:\n",
    "Hours Spent Studying: 10, 12, 15, 18, 20, 22, 25, 28, 30, 32, 35, 38, 40, 42, 45, 48,\n",
    "50, 52, 55, 58, 60, 62, 65, 68, 70, 72, 75, 78, 80, 82 Exam Scores: 60, 65, 70, 75,\n",
    "80, 82, 85, 88, 90, 92, 93, 95, 96, 97, 98, 99, 100, 102, 105, 106, 107, 108, 110,\n",
    "112, 114, 115, 116, 118, 120, 122"
   ]
  },
  {
   "cell_type": "code",
   "execution_count": null,
   "id": "2e7de83f-7601-4885-93f1-9ec4a76948d5",
   "metadata": {},
   "outputs": [],
   "source": [
    "import numpy as np\n",
    "study_hours = [10, 12, 15, 18, 20, 22, 25, 28, 30, 32, 35, 38, 40, 42, 45,\n",
    "         48, 50, 52, 55, 58, 60, 62, 65, 68, 70, 72, 75, 78, 80, 82]\n",
    "exam_score =  [60, 65, 70, 75, 80, 82, 85, 88, 90, 92, 93, 95, 96, 97, 98,\n",
    "          99, 100, 102, 105, 106, 107, 108, 110, 112, 114, 115, 116, 118, 120, 122]\n",
    "corelation = np.corrcoef(study_hours, exam_score)[0][1]\n",
    "print(\"corelation coefficient\",corelation)"
   ]
  },
  {
   "cell_type": "markdown",
   "id": "bb29455a-7b5c-4af8-a590-6b5196c0886b",
   "metadata": {},
   "source": [
    "7.A research study wants to analyze the weight distribution of a sample of\n",
    "individuals to assess their health and body composition.\n",
    "Data: Let's consider the weights (in kilograms) of a sample of 100 individuals:\n",
    "Weights:\n",
    "55, 60, 62, 65, 68, 70, 72, 75, 78, 80, 82, 85, 88, 90, 92, 95, 100, 105, 110, 115,\n",
    "120, 125, 130, 135, 140, 145, 150, 155, 160, 165, 170, 175, 180, 185, 190, 195,\n",
    "200, 205, 210, 215, 220, 225, 230, 235, 240, 245, 250, 255, 260, 265, 270, 275,\n",
    "280, 285, 290, 295, 300, 305, 310, 315, 320, 325, 330, 335, 340, 345, 350, 355,\n",
    "360, 365, 370, 375, 380, 385, 390, 395, 400, 405, 410, 415, 420, 425, 430, 435,\n",
    "440, 445, 450, 455, 460, 465, 470, 475, 480, 485, 490, 495, 500, 505, 510, 515\n",
    "Questions:\n",
    "a. Quartiles: Calculate the first quartile (Q1), median (Q2), and third quartile\n",
    "(Q3) of the weight distribution.\n",
    "b. Percentiles: Calculate the 15th percentile, 50th percentile, and 85th\n",
    "percentile of the weight distribution.\n",
    "c. Interpretation: Based on the quartiles and percentiles, what can be inferred\n",
    "about the weight distribution of the individuals?"
   ]
  },
  {
   "cell_type": "code",
   "execution_count": 11,
   "id": "9750bab5-2f2e-4172-977a-fdc9b6fe6e9c",
   "metadata": {},
   "outputs": [
    {
     "name": "stdout",
     "output_type": "stream",
     "text": [
      "Q1: 143.75\n",
      "Q2: 267.5\n",
      "Q2: 267.5\n"
     ]
    }
   ],
   "source": [
    "weights = np.array([55, 60, 62, 65, 68, 70, 72, 75, 78, 80, 82, 85, 88, 90, 92, 95, 100, 105, 110, 115,\n",
    "                    120, 125, 130, 135, 140, 145, 150, 155, 160, 165, 170, 175, 180, 185, 190, 195,\n",
    "                    200, 205, 210, 215, 220, 225, 230, 235, 240, 245, 250, 255, 260, 265, 270, 275,\n",
    "                    280, 285, 290, 295, 300, 305, 310, 315, 320, 325, 330, 335, 340, 345, 350, 355,\n",
    "                    360, 365, 370, 375, 380, 385, 390, 395, 400, 405, 410, 415, 420, 425, 430, 435,\n",
    "                    440, 445, 450, 455, 460, 465, 470, 475, 480, 485, 490, 495, 500, 505, 510, 515])\n",
    "Q1 = np.percentile(weights, 25)  \n",
    "Q2 = np.percentile(weights,50)         \n",
    "Q3 = np.percentile(weights, 75) \n",
    "print(\"Q1:\",Q1)\n",
    "print(\"Q2:\",Q2)\n",
    "print(\"Q2:\",Q2)"
   ]
  },
  {
   "cell_type": "code",
   "execution_count": 12,
   "id": "181b494e-d468-4be0-bf70-d1b0bbafa6a9",
   "metadata": {},
   "outputs": [
    {
     "name": "stdout",
     "output_type": "stream",
     "text": [
      "percentile of 15th: 94.55\n",
      "percentile of 50th: 267.5\n",
      "percentile of 85th: 440.74999999999994\n"
     ]
    }
   ],
   "source": [
    "pr_15 = np.percentile(weights,15)\n",
    "pr_50 = np.percentile(weights,50)\n",
    "pr_85 = np.percentile(weights,85)\n",
    "\n",
    "print(\"percentile of 15th:\",pr_15)\n",
    "print(\"percentile of 50th:\",pr_50)\n",
    "print(\"percentile of 85th:\",pr_85)"
   ]
  },
  {
   "cell_type": "markdown",
   "id": "d917de55-e74a-4ce0-b242-b3a50392c78d",
   "metadata": {},
   "source": [
    "6...A survey was conducted to analyze the satisfaction ratings of customers on a scale\n",
    "of 1 to 5 for a specific product.\n",
    "Data: Let's consider the satisfaction ratings from 200 customers:\n",
    "Ratings:\n",
    "4, 5, 3, 4, 4, 3, 2, 5, 4, 3, 5, 4, 2, 3, 4, 5, 3, 4, 5, 3, 4, 3, 2, 4, 5, 3, 4, 5, 4, 3, 3, 4, 5,\n",
    "2, 3, 4, 4, 3, 5, 4, 3, 4, 5, 4, 2, 3, 4, 5, 3, 4, 5, 4, 3, 4, 5, 3, 4, 5, 4, 3, 3, 4, 5, 2, 3, 4,\n",
    "4, 3, 5, 4, 3, 4, 5, 4, 2, 3, 4, 5, 3, 4, 5, 4, 3, 4, 5, 3, 4, 5, 4, 3, 3, 4, 5, 2, 3, 4, 4, 3, 5,\n",
    "4\n",
    "Questions:\n",
    "a. Skewness: Calculate the skewness of the satisfaction ratings.\n",
    "b. Kurtosis: Calculate the kurtosis of the satisfaction ratings."
   ]
  },
  {
   "cell_type": "code",
   "execution_count": 15,
   "id": "be03bda8-2e93-4044-9c11-f599ab76795d",
   "metadata": {},
   "outputs": [
    {
     "name": "stdout",
     "output_type": "stream",
     "text": [
      "skewness: -0.20773281879682218\n"
     ]
    }
   ],
   "source": [
    "import numpy as np\n",
    "from scipy.stats import skew\n",
    "ratings = [4, 5, 3, 4, 4, 3, 2, 5, 4, 3, 5, 4, 2, 3, 4, 5, 3, 4, 5, 3, 4, 3, 2, 4, 5, 3, 4, 5, 4, 3, 3, \n",
    "           4, 5, 2, 3, 4, 4, 3, 5, 4, 3, 4, 5, 4, 2, 3, 4, 5, 3, 4, 5, 4, 3, 4, 5, 3, 4, 5, 4, 3, 3, 4, \n",
    "           5, 2, 3, 4, 4, 3, 5, 4, 3, 4, 5, 4, 2, 3, 4, 5, 3, 4, 5, 4, 3, 4, 5, 3, 4, 5, 4, 3, 3, 4, 5, \n",
    "           2, 3, 4, 4, 3, 5, 4]\n",
    "skewness= skew(ratings)\n",
    "print(\"skewness:\", skewness)"
   ]
  },
  {
   "cell_type": "code",
   "execution_count": 17,
   "id": "44bcabcd-b3e2-448e-89a0-4950c62ccb3c",
   "metadata": {},
   "outputs": [
    {
     "name": "stdout",
     "output_type": "stream",
     "text": [
      "kurtosis: 2.42878564961521\n"
     ]
    }
   ],
   "source": [
    "from scipy.stats import kurtosis\n",
    "ratings = ([2] * 8 +     [3] * 72 +    [4] * 88 +    [5] * 32)\n",
    "kurtosis_rating = kurtosis(ratings, fisher=False) \n",
    "print(\"kurtosis:\", kurtosis_rating)"
   ]
  },
  {
   "cell_type": "markdown",
   "id": "c4a61708-79db-4b0d-86f7-b2cd48b4c416",
   "metadata": {},
   "source": [
    "6=A manufacturing company wants to analyze the defect rates of its production line to\n",
    "identify the frequency of different types of defects.\n",
    "Data: Let's consider the types of defects and their corresponding frequencies\n",
    "observed in a sample of 200 products:\n",
    "Defect Type: A, B, C, D, E, F, G\n",
    "Frequency: 30, 40, 20, 10, 45, 25, 30\n",
    "Questions:\n",
    "a. Bar Chart: Create a bar chart to visualize the frequency of different defect\n",
    "types.\n",
    "b. Most Common Defect: Which defect type has the highest frequency?\n",
    "c. Histogram: Create a histogram to represent the defect frequencies"
   ]
  },
  {
   "cell_type": "code",
   "execution_count": null,
   "id": "70be3f40-1be9-442c-a37a-14dfb38e6eb7",
   "metadata": {},
   "outputs": [],
   "source": []
  }
 ],
 "metadata": {
  "kernelspec": {
   "display_name": "Python 3 (ipykernel)",
   "language": "python",
   "name": "python3"
  },
  "language_info": {
   "codemirror_mode": {
    "name": "ipython",
    "version": 3
   },
   "file_extension": ".py",
   "mimetype": "text/x-python",
   "name": "python",
   "nbconvert_exporter": "python",
   "pygments_lexer": "ipython3",
   "version": "3.12.7"
  }
 },
 "nbformat": 4,
 "nbformat_minor": 5
}
