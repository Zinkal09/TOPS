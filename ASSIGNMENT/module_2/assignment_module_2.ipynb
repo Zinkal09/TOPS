{
 "cells": [
  {
   "cell_type": "raw",
   "id": "02650fcc-5daa-4b61-a40b-13257bf7fc17",
   "metadata": {},
   "source": [
    "1.Write a python program to sum of the first n positive integers."
   ]
  },
  {
   "cell_type": "code",
   "execution_count": 36,
   "id": "23fa3906-9a4f-4126-924a-5a8135bc7dbe",
   "metadata": {},
   "outputs": [
    {
     "name": "stdin",
     "output_type": "stream",
     "text": [
      "Enter the number:  9\n"
     ]
    },
    {
     "name": "stdout",
     "output_type": "stream",
     "text": [
      "sum of the first n positive integers is 45.0\n"
     ]
    }
   ],
   "source": [
    "num = int(input(\"Enter the number: \"))\n",
    "num = num*(num+1)/2\n",
    "print(f\"sum of the first n positive integers is {num}\")"
   ]
  },
  {
   "cell_type": "raw",
   "id": "1518731e-a2ef-44e5-88eb-17d0d2a14a5d",
   "metadata": {},
   "source": [
    "2. Write a Python program to count occurrences of a substring in a string."
   ]
  },
  {
   "cell_type": "code",
   "execution_count": 13,
   "id": "843d92ef-a379-4dd8-a936-a6d8d3b6b926",
   "metadata": {
    "scrolled": true
   },
   "outputs": [
    {
     "name": "stdin",
     "output_type": "stream",
     "text": [
      "enter the sentence: The horse is riding on the beach side where beach is beautiful\n",
      "enter the sub string:  beach\n"
     ]
    },
    {
     "name": "stdout",
     "output_type": "stream",
     "text": [
      "the substring 'beach' appears 2 times\n"
     ]
    }
   ],
   "source": [
    "text=input(\"enter the sentence:\")\n",
    "sub_text=input(\"enter the sub string: \")\n",
    "count= text.count(sub_text)\n",
    "print(f\"the substring '{sub_text}' appears {count} times\")"
   ]
  },
  {
   "cell_type": "raw",
   "id": "ea1e4cfb-f2e5-469a-b7ab-c1a2b827be99",
   "metadata": {},
   "source": [
    "3. Write a Python program to count the occurrences of each word in a given\n",
    "sentence."
   ]
  },
  {
   "cell_type": "code",
   "execution_count": 4,
   "id": "c3012256-474b-4515-94cd-98ceb2f8c657",
   "metadata": {},
   "outputs": [
    {
     "name": "stdin",
     "output_type": "stream",
     "text": [
      "Enter any sentence hello my name is zinkal hello\n"
     ]
    },
    {
     "name": "stdout",
     "output_type": "stream",
     "text": [
      "hello is present 2 times\n",
      "my is present 1 times\n",
      "name is present 1 times\n",
      "is is present 1 times\n",
      "zinkal is present 1 times\n",
      "hello is present 2 times\n"
     ]
    }
   ],
   "source": [
    "str =input(\"Enter any sentence\")\n",
    "str= str.split()\n",
    "count= []\n",
    "for i in str:\n",
    "    if str  not in count:\n",
    "        print(i,\"is present\",str.count(i),\"times\")\n",
    "        count.append(i)"
   ]
  },
  {
   "cell_type": "raw",
   "id": "021f15df-b5a0-4b8c-8ae7-a63dbda55f83",
   "metadata": {},
   "source": [
    "4. Write a Python program to get a single string from two given strings, separated by\n",
    "a space and swap the first two characters of each string."
   ]
  },
  {
   "cell_type": "code",
   "execution_count": 1,
   "id": "dc91b187-55be-4ee3-9c88-5f90d4f0d720",
   "metadata": {},
   "outputs": [
    {
     "name": "stdin",
     "output_type": "stream",
     "text": [
      "enter the string: cat\n",
      "enter the string dog\n"
     ]
    },
    {
     "name": "stdout",
     "output_type": "stream",
     "text": [
      "cat , dog\n",
      "dot , cag\n"
     ]
    }
   ],
   "source": [
    "string_1=input(\"enter the string:\")\n",
    "string_2=input(\"enter the string\")\n",
    "\n",
    "print(string_1, ',', string_2)\n",
    "\n",
    "new_s1=string_2[0:2]+string_1[2:]\n",
    "new_s2=string_1[0:2]+string_2[2:]\n",
    "print(new_s1, ',', new_s2)"
   ]
  },
  {
   "cell_type": "raw",
   "id": "467429c2-5257-4e45-ac60-c45048000d35",
   "metadata": {},
   "source": [
    "5.Write a Python program to add 'ing' at the end of a given string (length should be\n",
    "at least 3). If the given string already ends with 'ing' then add 'ly' instead If the\n",
    "string length of the given string is less than 3, leave it unchanged"
   ]
  },
  {
   "cell_type": "code",
   "execution_count": 15,
   "id": "91546c92-02b2-4efa-a5f0-6466e8be00e7",
   "metadata": {},
   "outputs": [
    {
     "name": "stdin",
     "output_type": "stream",
     "text": [
      "Enter any word chat\n"
     ]
    },
    {
     "name": "stdout",
     "output_type": "stream",
     "text": [
      "chating\n"
     ]
    }
   ],
   "source": [
    "string = input(\"Enter any word\")\n",
    "if len(string) <2:\n",
    "    print(\"string\")\n",
    "    \n",
    "elif string.endswith(\"ing\"):\n",
    "    print(string + \"ly\")\n",
    "else:\n",
    "    print(string + \"ing\")"
   ]
  },
  {
   "cell_type": "raw",
   "id": "21898381-307a-4bf1-8f15-2dbb5e16b570",
   "metadata": {},
   "source": [
    "6.Write a Python program to find the first appearance of the substring 'not' and\n",
    "'poor' from a given string, if 'not' follows the 'poor', replace the whole 'not'...'poor'\n",
    "substring with 'good'. Return the resulting string"
   ]
  },
  {
   "cell_type": "code",
   "execution_count": 4,
   "id": "ffe708d6-dd11-4129-a210-3dfe946abaf3",
   "metadata": {},
   "outputs": [
    {
     "name": "stdin",
     "output_type": "stream",
     "text": [
      "Enter the sentence: the poor is not more poor\n"
     ]
    },
    {
     "name": "stdout",
     "output_type": "stream",
     "text": [
      "the poor is not more poor\n"
     ]
    }
   ],
   "source": [
    "sentence = input(\"Enter the sentence:\")\n",
    "if 'not' in sentence and 'poor' in sentence:\n",
    "    start_index = sentence.index('not')\n",
    "    end_index = sentence.index('poor')\n",
    "    \n",
    "    if start_index < end_index:\n",
    "        sentence = sentence[:start_index] + 'good' + sentence[end_index + 4:]\n",
    "\n",
    "print(sentence)\n"
   ]
  },
  {
   "cell_type": "raw",
   "id": "61bc7094-90f7-4c27-82c0-19b6e6aee7c1",
   "metadata": {},
   "source": [
    "7.Program to find Greatest Common Divisor of two numbers. For example, the\n",
    "GCD of 20 and 28 is 4 and the GCD of 98 and 56 is 14."
   ]
  },
  {
   "cell_type": "code",
   "execution_count": 16,
   "id": "04e7d030-2f42-4e23-aba9-260373f5158b",
   "metadata": {},
   "outputs": [
    {
     "name": "stdin",
     "output_type": "stream",
     "text": [
      "enter the first number 40\n",
      "enter the second number 20\n"
     ]
    },
    {
     "name": "stdout",
     "output_type": "stream",
     "text": [
      "The GCD of two number is: 20\n"
     ]
    }
   ],
   "source": [
    "num1=int(input(\"Enter the first number\"))\n",
    "num2=int(input(\"Enter the second number\"))\n",
    "\n",
    "if num2>num1:\n",
    "    min=num1\n",
    "else:\n",
    "    min=num2\n",
    "for i in range(1,min+1):\n",
    "   if num1%i==0 and num2%i==0:\n",
    "       gcd=i\n",
    "print(\"The GCD of two number is:\",gcd)\n"
   ]
  },
  {
   "cell_type": "raw",
   "id": "254e4d85-4863-46fe-a8c7-d682610f6b3f",
   "metadata": {},
   "source": [
    "8.Write a Python program to check whether a list contains a sublist."
   ]
  },
  {
   "cell_type": "code",
   "execution_count": 17,
   "id": "0604f7d8-33f7-4385-9016-6c26c0f00fa0",
   "metadata": {},
   "outputs": [
    {
     "name": "stdout",
     "output_type": "stream",
     "text": [
      "['a', '2', '[1,2,3]', '4']\n",
      "sublist is present\n"
     ]
    }
   ],
   "source": [
    "l1=['a','2','[1,2,3]','4']\n",
    "print(l1)\n",
    "for i in l1:\n",
    "    if len(i)>1:\n",
    "        print(\"sublist is present\")\n",
    "        break\n",
    "else:\n",
    "    print(\"sublist is not present\")"
   ]
  },
  {
   "cell_type": "raw",
   "id": "501f0074-6769-4f12-a9d7-66e385ec8f08",
   "metadata": {},
   "source": [
    "9.Write a Python program to find the second smallest number in a list."
   ]
  },
  {
   "cell_type": "code",
   "execution_count": 18,
   "id": "9baaaaf4-75ff-434c-b7c6-04cebf20d59a",
   "metadata": {},
   "outputs": [
    {
     "name": "stdout",
     "output_type": "stream",
     "text": [
      "2\n"
     ]
    }
   ],
   "source": [
    "l1=[5,3,5,2,1,4] \n",
    "sort=sorted(l1)\n",
    "print(sort[1])"
   ]
  },
  {
   "cell_type": "raw",
   "id": "052c1c67-b6af-4b51-bd77-564f30de64f8",
   "metadata": {},
   "source": [
    "10.Write a Python program to get unique values from a list."
   ]
  },
  {
   "cell_type": "code",
   "execution_count": 21,
   "id": "1b0b9a37-057b-415b-a61f-b7c9ba47f9af",
   "metadata": {},
   "outputs": [
    {
     "name": "stdout",
     "output_type": "stream",
     "text": [
      "[1, 2, 3, 1, 2, 3, 4, 5]\n",
      "[1, 2, 3, 4, 5]\n"
     ]
    }
   ],
   "source": [
    "l1=[1,2,3,1,2,3,4,5]\n",
    "print(l1)\n",
    "uni_list=set(l1)\n",
    "print(list(uni_list))\n"
   ]
  },
  {
   "cell_type": "raw",
   "id": "34de1506-cc69-48f6-942a-380f0ec56e2d",
   "metadata": {},
   "source": [
    "11.Write a Python program to unzip a list of tuples into individual lists."
   ]
  },
  {
   "cell_type": "code",
   "execution_count": 26,
   "id": "b3f0512c-ef06-4a11-ac0c-da1e549af3bf",
   "metadata": {},
   "outputs": [
    {
     "name": "stdout",
     "output_type": "stream",
     "text": [
      "[1, 2, 3, 4]\n"
     ]
    }
   ],
   "source": [
    "l1=[1,2,3,4]\n",
    "print(l1)"
   ]
  },
  {
   "cell_type": "raw",
   "id": "35603b0f-4148-446a-bc12-034024e6f3a9",
   "metadata": {},
   "source": [
    "12.Write a Python program to convert a list of tuples into a dictionary"
   ]
  },
  {
   "cell_type": "code",
   "execution_count": 27,
   "id": "567d575e-1a4f-40db-9292-a2d7bdecd9ea",
   "metadata": {},
   "outputs": [
    {
     "name": "stdout",
     "output_type": "stream",
     "text": [
      "{'name': 'zinkal', 'course': 'Data Science'}\n"
     ]
    }
   ],
   "source": [
    "data= [('name', 'zinkal'), ('course', 'Data Science')]\n",
    "dic1=dict(data)\n",
    "print(dic1)\n"
   ]
  },
  {
   "cell_type": "raw",
   "id": "0afe352a-9cf0-458e-84af-825ace4db980",
   "metadata": {},
   "source": [
    "13.Write a Python program to sort a dictionary (ascending /descending) by value."
   ]
  },
  {
   "cell_type": "code",
   "execution_count": 8,
   "id": "196d2313-3de2-48f7-860b-cf7c9d9cba2e",
   "metadata": {},
   "outputs": [
    {
     "name": "stdout",
     "output_type": "stream",
     "text": [
      "{'chiku': '1', 'guava': '1', 'mango': '2', 'apple': '4'}\n",
      "{'apple': '4', 'mango': '2', 'chiku': '1', 'guava': '1'}\n"
     ]
    }
   ],
   "source": [
    "fruit_dict ={'mango':'2','apple':'4','chiku':'1','guava':'1'}\n",
    "t = fruit_dict.items()\n",
    "asc_dict=dict(sorted(fruit_dict.items(),key=lambda X:X[1]))\n",
    "print(asc_dict)\n",
    "des_dict=dict(sorted(fruit_dict.items(),key=lambda X:X[1],reverse=True))\n",
    "print(des_dict)\n"
   ]
  },
  {
   "cell_type": "raw",
   "id": "074470d2-2839-4a16-a1e3-7826730ff019",
   "metadata": {},
   "source": [
    "14.Write a Python program to find the highest 3 values in a dictionary."
   ]
  },
  {
   "cell_type": "code",
   "execution_count": 10,
   "id": "53ab1be9-29aa-4974-8e4d-4c3eee98b696",
   "metadata": {},
   "outputs": [
    {
     "name": "stdout",
     "output_type": "stream",
     "text": [
      "[('apple', '4'), ('mango', '2'), ('chiku', '1')]\n"
     ]
    }
   ],
   "source": [
    "fruit_dict ={'mango':'2','apple':'4','chiku':'1','guava':'1'}\n",
    "\n",
    "sorted_dict = sorted(fruit_dict.items(), key=lambda item: item[1], reverse=True)\n",
    "\n",
    "top_3 = sorted_dict[:3]\n",
    "\n",
    "print( top_3)\n"
   ]
  },
  {
   "cell_type": "raw",
   "id": "f219003b-6920-4627-a5af-1a00a537d5cf",
   "metadata": {},
   "source": [
    "15.Given a number n, write a python program to make and print the list of Fibonacci\n",
    "series up to n."
   ]
  },
  {
   "cell_type": "code",
   "execution_count": 17,
   "id": "670df8ea-6574-49f9-b31c-e8d75fab2173",
   "metadata": {},
   "outputs": [
    {
     "name": "stdin",
     "output_type": "stream",
     "text": [
      "enter any number 3\n"
     ]
    },
    {
     "name": "stdout",
     "output_type": "stream",
     "text": [
      "2\n",
      "Fibonacci series is: [0, 1, 1, 2]\n"
     ]
    }
   ],
   "source": [
    "n=int(input(\"enter any number\"))\n",
    "\n",
    "def fibo(n):\n",
    "    if n==0:\n",
    "        return 0\n",
    "    elif n==1:\n",
    "        return 1\n",
    "    else:\n",
    "        return fibo(n-1) + fibo(n-2)\n",
    "print(fibo(n))\n",
    "\n",
    "fibo_list = [fibo(i) for i in range(n + 1)]\n",
    "\n",
    "print(\"Fibonacci series is:\", fibo_list)"
   ]
  },
  {
   "cell_type": "raw",
   "id": "5731baf2-b609-4408-aca8-99705a4ffd3f",
   "metadata": {},
   "source": [
    "16.Counting the frequencies in a list using a dictionary in Python."
   ]
  },
  {
   "cell_type": "code",
   "execution_count": 29,
   "id": "b72f7b03-d9d8-4851-b1e8-6291a2049d50",
   "metadata": {},
   "outputs": [
    {
     "name": "stdout",
     "output_type": "stream",
     "text": [
      "{1: 5, 2: 4, 3: 3, 4: 3, 5: 2}\n"
     ]
    }
   ],
   "source": [
    "list = [1, 1, 1, 5, 5, 3, 1, 3, 3, 1, 4, 4, 4, 2, 2, 2, 2]\n",
    "\n",
    "frequency = {}\n",
    "\n",
    "for i in list:\n",
    "    if i in frequency:\n",
    "        frequency[i] += 1\n",
    "    else:\n",
    "        frequency[i] = 1\n",
    "sorted_list = dict(sorted(frequency.items()))\n",
    "print(sorted_list)\n"
   ]
  },
  {
   "cell_type": "raw",
   "id": "1fd9bd65-4db0-4ac8-b0c4-1864fea9fc50",
   "metadata": {},
   "source": [
    "17.Write a python program using function to find the sum of odd series and even\n",
    "series"
   ]
  },
  {
   "cell_type": "code",
   "execution_count": 11,
   "id": "ca607b22-b85f-47bd-bc26-1e528be79081",
   "metadata": {},
   "outputs": [
    {
     "name": "stdin",
     "output_type": "stream",
     "text": [
      "Enter the limit:  10\n"
     ]
    },
    {
     "name": "stdout",
     "output_type": "stream",
     "text": [
      "Sum of even series: 30\n",
      "Sum of odd series: 25\n"
     ]
    }
   ],
   "source": [
    "def sum_even(n):\n",
    "    even_sum = 0\n",
    "    for i in range(2, n+1, 2):\n",
    "        even_sum += i\n",
    "    return even_sum\n",
    "\n",
    "def sum_odd(n):\n",
    "    odd_sum = 0\n",
    "    for i in range(1, n+1, 2):\n",
    "        odd_sum += i\n",
    "    return odd_sum\n",
    "\n",
    "num = int(input(\"Enter the limit: \"))\n",
    "\n",
    "even_total = sum_even(num)\n",
    "odd_total = sum_odd(num)\n",
    "\n",
    "print(\"Sum of even series:\", even_total)\n",
    "print(\"Sum of odd series:\", odd_total)\n"
   ]
  },
  {
   "cell_type": "raw",
   "id": "a77afbcc-39fd-4384-8af6-4a516d00b608",
   "metadata": {},
   "source": [
    "18.Python Program to Find Factorial of Number Using Recursion"
   ]
  },
  {
   "cell_type": "code",
   "execution_count": 30,
   "id": "38b91c46-65f7-42bd-ac7d-dc8c8beef048",
   "metadata": {},
   "outputs": [
    {
     "name": "stdin",
     "output_type": "stream",
     "text": [
      "enter any number 9\n"
     ]
    },
    {
     "name": "stdout",
     "output_type": "stream",
     "text": [
      "362880\n"
     ]
    }
   ],
   "source": [
    "n=int(input(\"enter any number\"))\n",
    "def fact(n):\n",
    "    if n==0:\n",
    "        return 1\n",
    "    else:\n",
    "        return n*fact(n-1)\n",
    "print(fact(n))"
   ]
  },
  {
   "cell_type": "raw",
   "id": "a71e39e6-0f75-4477-9b95-3bf562fa74d1",
   "metadata": {},
   "source": [
    "19.Write a Python function that takes a list and returns a new list with unique\n",
    "elements of the first list."
   ]
  },
  {
   "cell_type": "code",
   "execution_count": 31,
   "id": "64b04be8-2219-465d-985a-3167314065a1",
   "metadata": {},
   "outputs": [],
   "source": [
    "def get_unique_elements(input_list):\n",
    "    unique_list = []\n",
    "    for item in input_list:\n",
    "        if item not in unique_list:\n",
    "            unique_list.append(item)\n",
    "    return unique_list\n"
   ]
  },
  {
   "cell_type": "code",
   "execution_count": 33,
   "id": "e1561ed9-5772-4b93-99b3-5bd6bd1ef115",
   "metadata": {},
   "outputs": [
    {
     "name": "stdout",
     "output_type": "stream",
     "text": [
      "Unique elements: [1, 2, 3, 5, 4]\n"
     ]
    }
   ],
   "source": [
    "my_list = [1, 2, 3, 3, 5, 3, 4]\n",
    "unique = get_unique_elements(my_list)\n",
    "print(\"Unique elements:\", unique)\n"
   ]
  },
  {
   "cell_type": "raw",
   "id": "e247d580-3e36-4e59-bcb3-604bb62f2069",
   "metadata": {},
   "source": [
    "20.Mini project :\n",
    "Problem Statement : Password Generator"
   ]
  },
  {
   "cell_type": "code",
   "execution_count": 34,
   "id": "577bf2c8-4d64-4ae2-a422-fe8f3713a948",
   "metadata": {},
   "outputs": [],
   "source": [
    "import string\n",
    "import random\n",
    "\n",
    "class User:\n",
    "    def __init__(self,user_id,name):\n",
    "        self.user_id=user_id\n",
    "        self.name=name\n",
    "        self.password=None\n",
    "    def get_details(self):\n",
    "        return(self.user_id,self.name,self.password)\n",
    "    def generate_password(self):\n",
    "        \n",
    "        try:\n",
    "            p_len = int(input('\\nEnter the length of the password: '))\n",
    "            if p_len < 8:\n",
    "                raise ValueError(\"Password length must be at least 8 characters.\")\n",
    "        except ValueError as err:\n",
    "            print(f\"Error: {err}\")\n",
    "\n",
    "      \n",
    "       \n",
    "        else:\n",
    "                 letters = string.ascii_letters\n",
    "                 digits = string.digits\n",
    "                 specials = string.punctuation\n",
    "\n",
    "                 combined = letters + digits + specials\n",
    "                 passwd = random.sample(combined, p_len)\n",
    "                 generated_pass = ''.join(passwd)\n",
    "                 #print('Here is a strong password: ', generated_pass)\n",
    "                 self.password = generated_pass\n",
    "                 print(\"Generated Password:\", generated_pass)\n",
    "\n",
    "                 return generated_pass\n",
    "    def get_details(self):\n",
    "        return(self.user_id,self.name,self.password)"
   ]
  },
  {
   "cell_type": "code",
   "execution_count": 35,
   "id": "f70f09cd-ae14-4f6f-9246-182ef29af5a2",
   "metadata": {},
   "outputs": [
    {
     "name": "stdin",
     "output_type": "stream",
     "text": [
      "\n",
      "Enter the length of the password:  9\n"
     ]
    },
    {
     "name": "stdout",
     "output_type": "stream",
     "text": [
      "Generated Password: Mt3ij$`Ad\n",
      "User details: (123, 'Zinkal', 'Mt3ij$`Ad')\n"
     ]
    }
   ],
   "source": [
    "user1=User(123,\"Zinkal\",)\n",
    "user1.generate_password()\n",
    "print(\"User details:\", user1.get_details())"
   ]
  },
  {
   "cell_type": "code",
   "execution_count": null,
   "id": "7066530c-70cc-4a63-9855-4e8777f1a06d",
   "metadata": {},
   "outputs": [],
   "source": []
  }
 ],
 "metadata": {
  "kernelspec": {
   "display_name": "Python 3 (ipykernel)",
   "language": "python",
   "name": "python3"
  },
  "language_info": {
   "codemirror_mode": {
    "name": "ipython",
    "version": 3
   },
   "file_extension": ".py",
   "mimetype": "text/x-python",
   "name": "python",
   "nbconvert_exporter": "python",
   "pygments_lexer": "ipython3",
   "version": "3.12.7"
  }
 },
 "nbformat": 4,
 "nbformat_minor": 5
}
